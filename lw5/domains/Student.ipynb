{
 "cells": [
  {
   "cell_type": "code",
   "execution_count": null,
   "metadata": {},
   "outputs": [],
   "source": [
    "class Student():\n",
    "    def __init__(self, id, name, dob):\n",
    "        self.id = id\n",
    "        self.name = name\n",
    "        self.dob = dob\n",
    "    \n",
    "    def print_St(self):\n",
    "        print(\"ID student : \" + self.id)\n",
    "        print(\"Name student : \" + self.name)\n",
    "        print(\"Dob student : \" + self.dob)\n",
    "    \n"
   ]
  }
 ],
 "metadata": {
  "kernelspec": {
   "display_name": "Python 3",
   "language": "python",
   "name": "python3"
  },
  "language_info": {
   "codemirror_mode": {
    "name": "ipython",
    "version": 3
   },
   "file_extension": ".py",
   "mimetype": "text/x-python",
   "name": "python",
   "nbconvert_exporter": "python",
   "pygments_lexer": "ipython3",
   "version": "3.8.5"
  }
 },
 "nbformat": 4,
 "nbformat_minor": 4
}
