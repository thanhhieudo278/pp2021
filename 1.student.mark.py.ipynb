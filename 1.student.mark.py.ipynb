{
 "cells": [
  {
   "cell_type": "code",
   "execution_count": 2,
   "metadata": {},
   "outputs": [
    {
     "name": "stdout",
     "output_type": "stream",
     "text": [
      "Number of Students: 1\n",
      "Enter Student Information: \n",
      "ID: 2\n",
      "Name : h\n",
      "DoB: 12\n",
      "number of Course: 1\n",
      "Enter Course Information: \n",
      "ID: 4\n",
      "Name : tt\n",
      "All Students:\n",
      "id:2,name: h,DoB: 12\n",
      "All Courses:\n",
      "id:4,name: tt\n",
      "Enter Student'ID to input Mark: 2\n",
      "Enter Course'ID to input Mark: 4\n",
      "mark: 10\n",
      "mark: 10\n"
     ]
    }
   ],
   "source": [
    "studentL = {}\n",
    "def inst(id, name, dob):\n",
    "    studentL[id] = [name, dob]\n",
    "def NoS():\n",
    "    NoS = int(input(\"Number of Students: \"))\n",
    "    return NoS\n",
    "def InSt():\n",
    "    print(\"Enter Student Information: \")\n",
    "    id = input(\"ID: \")\n",
    "    name = input(\"Name : \")\n",
    "    DoB = input(\"DoB: \")\n",
    "    inst(id, name,DoB)\n",
    "    A = {\"id\":id,\"name\":name,\"DoB\":DoB}  \n",
    "    return A\n",
    "def St_List(Students):\n",
    "    for A in Students:\n",
    "            print(f\"id:{A['id']},name: {A['name']},DoB: {A['DoB']}\")\n",
    "            \n",
    "#main \n",
    "Students =[]\n",
    "NoS = NoS()\n",
    "for i in range (0,NoS):\n",
    "    A = InSt()\n",
    "    Students += [A]\n",
    "\n",
    "    \n",
    "courseL = {}\n",
    "def inCo(id, name):\n",
    "    courseL[id] = name   \n",
    "def NoC():\n",
    "    NoC = int(input(\"number of Course: \"))\n",
    "    return NoC\n",
    "def InC():\n",
    "    print(\"Enter Course Information: \")\n",
    "    id = input(\"ID: \")\n",
    "    name = input(\"Name : \")\n",
    "    inCo(id, name)\n",
    "    B = {\"id\":id,\"name\":name}\n",
    "    return B\n",
    "def C_List(Courses):\n",
    "    for B in Courses:\n",
    "            print(f\"id:{B['id']},name: {B['name']}\")\n",
    "#main \n",
    "Courses =[]\n",
    "NoC = NoC()\n",
    "for i in range (0,NoS):\n",
    "    B = InC()\n",
    "    Courses += [B]   \n",
    "    \n",
    "print(\"All Students:\")\n",
    "St_List(Students)\n",
    "print(\"All Courses:\")\n",
    "C_List(Courses)\n",
    "\n",
    "id_S = input(\"Enter Student'ID to input Mark: \")\n",
    "if id_S in studentL:\n",
    "    id_C = input(\"Enter Course'ID to input Mark: \")\n",
    "    if id_C in courseL:\n",
    "        mark = int(input(\"mark: \"))     \n",
    "print(\"mark:\" , mark)    "
   ]
  },
  {
   "cell_type": "code",
   "execution_count": null,
   "metadata": {},
   "outputs": [],
   "source": []
  }
 ],
 "metadata": {
  "kernelspec": {
   "display_name": "Python 3",
   "language": "python",
   "name": "python3"
  },
  "language_info": {
   "codemirror_mode": {
    "name": "ipython",
    "version": 3
   },
   "file_extension": ".py",
   "mimetype": "text/x-python",
   "name": "python",
   "nbconvert_exporter": "python",
   "pygments_lexer": "ipython3",
   "version": "3.8.5"
  }
 },
 "nbformat": 4,
 "nbformat_minor": 4
}
