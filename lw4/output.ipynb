{
 "cells": [
  {
   "cell_type": "code",
   "execution_count": null,
   "metadata": {},
   "outputs": [],
   "source": [
    "from domains.Student import *\n",
    "from domains.Course import *\n",
    "from domains.Mark import *\n",
    "class output():\n",
    "    def print_St():\n",
    "        print(\"All Students: \")\n",
    "        for i in range(0,nos):\n",
    "            print(\"Student \" + str(i+1))\n",
    "            listSt[i].print_St()\n",
    "    def print_C():\n",
    "    print(\"ALL Courses\")\n",
    "    for i in range(0,noc):\n",
    "        print(\"Course \" + str(i+1))\n",
    "        listC[i].print_C()\n",
    "        \n",
    "    def print_Mark():\n",
    "    print(\"mark information: \")\n",
    "    listMark.print_mark()\n",
    "\n"
   ]
  }
 ],
 "metadata": {
  "kernelspec": {
   "display_name": "Python 3",
   "language": "python",
   "name": "python3"
  },
  "language_info": {
   "codemirror_mode": {
    "name": "ipython",
    "version": 3
   },
   "file_extension": ".py",
   "mimetype": "text/x-python",
   "name": "python",
   "nbconvert_exporter": "python",
   "pygments_lexer": "ipython3",
   "version": "3.8.5"
  }
 },
 "nbformat": 4,
 "nbformat_minor": 4
}
