{
 "cells": [
  {
   "cell_type": "code",
   "execution_count": 1,
   "metadata": {},
   "outputs": [],
   "source": [
    "class Mark():\n",
    "    def __init__(self, id_s, id_c, mark):\n",
    "        self.id_s = id_s\n",
    "        self.id_c = id_c\n",
    "        self.mark = mark\n",
    "    def print_mark(self):\n",
    "        print(\"ID student: \" +self.id_s)\n",
    "        print(\"ID course: \" +self.id_c)\n",
    "        print(\"mark: \" +self.mark)"
   ]
  },
  {
   "cell_type": "code",
   "execution_count": null,
   "metadata": {},
   "outputs": [],
   "source": []
  }
 ],
 "metadata": {
  "kernelspec": {
   "display_name": "Python 3",
   "language": "python",
   "name": "python3"
  },
  "language_info": {
   "codemirror_mode": {
    "name": "ipython",
    "version": 3
   },
   "file_extension": ".py",
   "mimetype": "text/x-python",
   "name": "python",
   "nbconvert_exporter": "python",
   "pygments_lexer": "ipython3",
   "version": "3.8.5"
  }
 },
 "nbformat": 4,
 "nbformat_minor": 4
}
