{
 "cells": [
  {
   "cell_type": "markdown",
   "metadata": {},
   "source": []
  },
  {
   "cell_type": "code",
   "execution_count": null,
   "metadata": {},
   "outputs": [],
   "source": [
    "import input\n",
    "import output\n",
    "from domains.Student import *\n",
    "from domains.Course import *\n",
    "from domains.Mark import *\n",
    "\n",
    "studentL = {}\n",
    "listSt = []      \n",
    "NoS()\n",
    "\n",
    "def CreateList_St():\n",
    "    for i in range(0,nos):\n",
    "        listSt.append(\"s\" + str(i))\n",
    "        \n",
    "CreateList_St()\n",
    "In_St()\n",
    "print_St()\n",
    "courseL = {}\n",
    "listC = []       \n",
    "NoC()\n",
    "def CreateList_C():\n",
    "    for i in range(0,noc):\n",
    "        listC.append(\"s\" + str(i))\n",
    "CreateList_C()\n",
    "In_C()\n",
    "print_C()\n",
    "input_Mark()\n",
    "print_Mark()\n",
    "\n"
   ]
  }
 ],
 "metadata": {
  "kernelspec": {
   "display_name": "Python 3",
   "language": "python",
   "name": "python3"
  },
  "language_info": {
   "codemirror_mode": {
    "name": "ipython",
    "version": 3
   },
   "file_extension": ".py",
   "mimetype": "text/x-python",
   "name": "python",
   "nbconvert_exporter": "python",
   "pygments_lexer": "ipython3",
   "version": "3.8.5"
  }
 },
 "nbformat": 4,
 "nbformat_minor": 4
}
